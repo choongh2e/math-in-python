{
 "cells": [
  {
   "cell_type": "markdown",
   "id": "885f115e",
   "metadata": {},
   "source": [
    "## 연산순서\n",
    "* PEMDAS\n",
    "\n",
    "Parenthesis > Exponents > Multiplication = Division > Addition = Subtraction 순서로 연산한다."
   ]
  },
  {
   "cell_type": "code",
   "execution_count": 4,
   "id": "7d509e13",
   "metadata": {},
   "outputs": [
    {
     "name": "stdout",
     "output_type": "stream",
     "text": [
      "7\n",
      "9\n"
     ]
    }
   ],
   "source": [
    "print((4+3) * (2-1))\n",
    "print(4+3*2-1)"
   ]
  },
  {
   "cell_type": "code",
   "execution_count": 5,
   "id": "0bceeac6",
   "metadata": {},
   "outputs": [
    {
     "name": "stdout",
     "output_type": "stream",
     "text": [
      "2.0\n",
      "5.857142857142858\n"
     ]
    }
   ],
   "source": [
    "print(4*5 / (7+3))\n",
    "print(4*5/7+3)"
   ]
  },
  {
   "cell_type": "code",
   "execution_count": 6,
   "id": "b18d9dd9",
   "metadata": {},
   "outputs": [
    {
     "name": "stdout",
     "output_type": "stream",
     "text": [
      "0.0\n",
      "8.0\n"
     ]
    }
   ],
   "source": [
    "print(9 / (3+6) - 1)\n",
    "print(9/3+6-1)"
   ]
  }
 ],
 "metadata": {
  "kernelspec": {
   "display_name": "Python 3 (ipykernel)",
   "language": "python",
   "name": "python3"
  },
  "language_info": {
   "codemirror_mode": {
    "name": "ipython",
    "version": 3
   },
   "file_extension": ".py",
   "mimetype": "text/x-python",
   "name": "python",
   "nbconvert_exporter": "python",
   "pygments_lexer": "ipython3",
   "version": "3.7.11"
  }
 },
 "nbformat": 4,
 "nbformat_minor": 5
}
