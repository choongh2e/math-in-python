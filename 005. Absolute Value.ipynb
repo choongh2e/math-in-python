{
 "cells": [
  {
   "cell_type": "markdown",
   "id": "5bbe873f",
   "metadata": {},
   "source": [
    "## 절댓값\n",
    "* 파이썬으로 절댓값 계산하기\n",
    "\n",
    "### 나쁜 설명\n",
    "절댓값은 숫자의 음수 부호를 제거한 것입니다.\n",
    "\n",
    "### 바른 설명\n",
    "절댓값은 수직선 위에서 원점으로부터 어떤 수를 나타내는 점까지의 거리입니다. (Wikipedia)\n",
    "\n",
    "$ abs(x) $ 또는 $ |x| $ 로 표기합니다."
   ]
  },
  {
   "cell_type": "code",
   "execution_count": 1,
   "id": "ce7d05f5",
   "metadata": {},
   "outputs": [
    {
     "data": {
      "text/plain": [
       "(-4, 4)"
      ]
     },
     "execution_count": 1,
     "metadata": {},
     "output_type": "execute_result"
    }
   ],
   "source": [
    "a = -4\n",
    "b = abs(a)\n",
    "a, b"
   ]
  },
  {
   "cell_type": "code",
   "execution_count": 2,
   "id": "c45ddf4b",
   "metadata": {},
   "outputs": [
    {
     "data": {
      "text/latex": [
       "$\\displaystyle |-4.3| = 4.3$"
      ],
      "text/plain": [
       "<IPython.core.display.Math object>"
      ]
     },
     "metadata": {},
     "output_type": "display_data"
    }
   ],
   "source": [
    "from IPython.display import display, Math\n",
    "\n",
    "x = -4.3\n",
    "\n",
    "display(Math('|%g| = %g' %(x, abs(x))))"
   ]
  },
  {
   "cell_type": "code",
   "execution_count": 3,
   "id": "b89e687d",
   "metadata": {},
   "outputs": [
    {
     "name": "stdout",
     "output_type": "stream",
     "text": [
      "-4 was not tested\n",
      "Absolute value of 6 is 6.\n",
      "-1 was not tested\n",
      "Absolute value of 43 is 43.\n",
      "Absolute value of -18 is 18.\n",
      "2 was not tested\n",
      "0 was not tested\n"
     ]
    }
   ],
   "source": [
    "numbers = [-4, 6, -1, 43, -18, 2, 0]\n",
    "\n",
    "# for-loop over the numbers\n",
    "for numi in numbers:\n",
    "    if numi < -5 or numi > 2:\n",
    "        print('Absolute value of %g is %g.' %(numi, abs(numi)))\n",
    "    else:\n",
    "        print(str(numi) + ' was not tested')"
   ]
  }
 ],
 "metadata": {
  "kernelspec": {
   "display_name": "Python 3 (ipykernel)",
   "language": "python",
   "name": "python3"
  },
  "language_info": {
   "codemirror_mode": {
    "name": "ipython",
    "version": 3
   },
   "file_extension": ".py",
   "mimetype": "text/x-python",
   "name": "python",
   "nbconvert_exporter": "python",
   "pygments_lexer": "ipython3",
   "version": "3.7.11"
  }
 },
 "nbformat": 4,
 "nbformat_minor": 5
}
