{
 "cells": [
  {
   "cell_type": "markdown",
   "id": "659fd9e0",
   "metadata": {},
   "source": [
    "## 최대 공약수\n",
    "* 최대 공약수의 정의\n",
    "* Math 패키지를 이용하여 GCD 구하기\n",
    "\n",
    "### 정의\n",
    "두 수가 나머지 없이 나눠지는 가장 큰 정수<br><br>\n",
    "$gcd(2,4) = 2$<br>\n",
    "$gcd(6,15) = 3$<br>\n",
    "$gcd(6,17) = 1$\n",
    "\n",
    "### 응용\n",
    "\n",
    "If, $gcd(a,b) = c$, then $\\dfrac{a}{b} = \\dfrac{\\frac{a}{c} \\times c}{\\frac{b}{c} \\times c} = \\dfrac{a/c}{b/c}$<br>\n",
    "$gcd(6,15) = 3, \\dfrac{6}{15} = \\dfrac{\\frac{6}{3 \\times 3}}{\\frac{15}{3} \\times 3} = \\dfrac{6/3}{15/3} = \\dfrac{2}{5}$"
   ]
  },
  {
   "cell_type": "code",
   "execution_count": 1,
   "id": "b1be4bec",
   "metadata": {},
   "outputs": [],
   "source": [
    "import math\n",
    "from IPython.display import display, Math"
   ]
  },
  {
   "cell_type": "code",
   "execution_count": 2,
   "id": "406cc495",
   "metadata": {},
   "outputs": [
    {
     "data": {
      "text/plain": [
       "3"
      ]
     },
     "execution_count": 2,
     "metadata": {},
     "output_type": "execute_result"
    }
   ],
   "source": [
    "math.gcd(6,15)"
   ]
  },
  {
   "cell_type": "code",
   "execution_count": 3,
   "id": "d884db00",
   "metadata": {},
   "outputs": [
    {
     "ename": "TypeError",
     "evalue": "'float' object cannot be interpreted as an integer",
     "output_type": "error",
     "traceback": [
      "\u001b[0;31m---------------------------------------------------------------------------\u001b[0m",
      "\u001b[0;31mTypeError\u001b[0m                                 Traceback (most recent call last)",
      "\u001b[0;32m/var/folders/gp/zfz_3b451jjd6h0ptrny7mcm0000gn/T/ipykernel_21707/3369977206.py\u001b[0m in \u001b[0;36m<module>\u001b[0;34m\u001b[0m\n\u001b[0;32m----> 1\u001b[0;31m \u001b[0mmath\u001b[0m\u001b[0;34m.\u001b[0m\u001b[0mgcd\u001b[0m\u001b[0;34m(\u001b[0m\u001b[0;36m4\u001b[0m\u001b[0;34m,\u001b[0m \u001b[0;36m15.1\u001b[0m\u001b[0;34m)\u001b[0m \u001b[0;31m# 'float' 객체는 'integer' 객체로 해석될 수 없다.\u001b[0m\u001b[0;34m\u001b[0m\u001b[0;34m\u001b[0m\u001b[0m\n\u001b[0m",
      "\u001b[0;31mTypeError\u001b[0m: 'float' object cannot be interpreted as an integer"
     ]
    }
   ],
   "source": [
    "math.gcd(4, 15.1) # 'float' 객체는 'integer' 객체로 해석될 수 없다."
   ]
  },
  {
   "cell_type": "code",
   "execution_count": 4,
   "id": "54bbb3b2",
   "metadata": {},
   "outputs": [
    {
     "data": {
      "text/latex": [
       "$\\displaystyle \\frac{16}{88} = \\frac{2\\times8}{11\\times8}$"
      ],
      "text/plain": [
       "<IPython.core.display.Math object>"
      ]
     },
     "metadata": {},
     "output_type": "display_data"
    }
   ],
   "source": [
    "a = 16\n",
    "b = 88\n",
    "\n",
    "fact = math.gcd(a,b)\n",
    "\n",
    "display(Math('\\\\frac{%g}{%g} = \\\\frac{%g\\\\times%g}{%g\\\\times%g}' %(a,b,a/fact,fact,b/fact,fact)))"
   ]
  },
  {
   "cell_type": "code",
   "execution_count": 5,
   "id": "cbfb9139",
   "metadata": {},
   "outputs": [],
   "source": [
    "import sympy as sym"
   ]
  },
  {
   "cell_type": "markdown",
   "id": "161a9af6",
   "metadata": {},
   "source": [
    "### 문제 1\n",
    "다음이 같음을 보이시오<br>\n",
    "$gcd(ca,cb) = c\\space gcd(a,b)$"
   ]
  },
  {
   "cell_type": "code",
   "execution_count": 7,
   "id": "067761b8",
   "metadata": {},
   "outputs": [
    {
     "name": "stdout",
     "output_type": "stream",
     "text": [
      "c\n",
      "c\n",
      "9\n",
      "9\n"
     ]
    }
   ],
   "source": [
    "a,b,c = sym.symbols('a,b,c')\n",
    "\n",
    "print(sym.gcd(a*c, b*c))\n",
    "print(c*sym.gcd(a,b))\n",
    "\n",
    "a = 15\n",
    "b = 6\n",
    "c = 3\n",
    "print(math.gcd(a*c, b*c))\n",
    "print(c*math.gcd(a,b))"
   ]
  },
  {
   "cell_type": "markdown",
   "id": "ab72d278",
   "metadata": {},
   "source": [
    "### 문제 2\n",
    "\n",
    "1) 10x15 행렬을 만드세요. 각 값은 모두 99여야합니다."
   ]
  },
  {
   "cell_type": "code",
   "execution_count": 8,
   "id": "1e52c4ce",
   "metadata": {},
   "outputs": [],
   "source": [
    "import numpy as np"
   ]
  },
  {
   "cell_type": "code",
   "execution_count": 16,
   "id": "f6398dea",
   "metadata": {},
   "outputs": [
    {
     "data": {
      "text/latex": [
       "$\\displaystyle \\left[\\begin{array}99.0 & 99.0 & 99.0 & 99.0 & 99.0 & 99.0 & 99.0 & 99.0 & 99.0 & 99.0 & 99.0 & 99.0 & 99.0 & 99.0 & 99.0\\\\99.0 & 99.0 & 99.0 & 99.0 & 99.0 & 99.0 & 99.0 & 99.0 & 99.0 & 99.0 & 99.0 & 99.0 & 99.0 & 99.0 & 99.0\\\\99.0 & 99.0 & 99.0 & 99.0 & 99.0 & 99.0 & 99.0 & 99.0 & 99.0 & 99.0 & 99.0 & 99.0 & 99.0 & 99.0 & 99.0\\\\99.0 & 99.0 & 99.0 & 99.0 & 99.0 & 99.0 & 99.0 & 99.0 & 99.0 & 99.0 & 99.0 & 99.0 & 99.0 & 99.0 & 99.0\\\\99.0 & 99.0 & 99.0 & 99.0 & 99.0 & 99.0 & 99.0 & 99.0 & 99.0 & 99.0 & 99.0 & 99.0 & 99.0 & 99.0 & 99.0\\\\99.0 & 99.0 & 99.0 & 99.0 & 99.0 & 99.0 & 99.0 & 99.0 & 99.0 & 99.0 & 99.0 & 99.0 & 99.0 & 99.0 & 99.0\\\\99.0 & 99.0 & 99.0 & 99.0 & 99.0 & 99.0 & 99.0 & 99.0 & 99.0 & 99.0 & 99.0 & 99.0 & 99.0 & 99.0 & 99.0\\\\99.0 & 99.0 & 99.0 & 99.0 & 99.0 & 99.0 & 99.0 & 99.0 & 99.0 & 99.0 & 99.0 & 99.0 & 99.0 & 99.0 & 99.0\\\\99.0 & 99.0 & 99.0 & 99.0 & 99.0 & 99.0 & 99.0 & 99.0 & 99.0 & 99.0 & 99.0 & 99.0 & 99.0 & 99.0 & 99.0\\\\99.0 & 99.0 & 99.0 & 99.0 & 99.0 & 99.0 & 99.0 & 99.0 & 99.0 & 99.0 & 99.0 & 99.0 & 99.0 & 99.0 & 99.0\\end{array}\\right]$"
      ],
      "text/plain": [
       "<IPython.core.display.Math object>"
      ]
     },
     "metadata": {},
     "output_type": "display_data"
    }
   ],
   "source": [
    "n = 10\n",
    "m = 15\n",
    "\n",
    "gcdMat = np.zeros([n,m]) + 99\n",
    "display(Math(sym.latex(sym.sympify(gcdMat))))"
   ]
  },
  {
   "cell_type": "markdown",
   "id": "ef095824",
   "metadata": {},
   "source": [
    "2) $i^{th}$ 행과 $j^{th}$ 열에 $gcd(i+1,j+1)$의 결과를 가지도록 행렬을 수정합니다."
   ]
  },
  {
   "cell_type": "code",
   "execution_count": 12,
   "id": "65c72214",
   "metadata": {},
   "outputs": [
    {
     "data": {
      "text/latex": [
       "$\\displaystyle \\left[\\begin{array}1.0 & 1.0 & 1.0 & 1.0 & 1.0 & 1.0 & 1.0 & 1.0 & 1.0 & 1.0 & 1.0 & 1.0 & 1.0 & 1.0 & 1.0\\\\1.0 & 2.0 & 1.0 & 2.0 & 1.0 & 2.0 & 1.0 & 2.0 & 1.0 & 2.0 & 1.0 & 2.0 & 1.0 & 2.0 & 1.0\\\\1.0 & 1.0 & 3.0 & 1.0 & 1.0 & 3.0 & 1.0 & 1.0 & 3.0 & 1.0 & 1.0 & 3.0 & 1.0 & 1.0 & 3.0\\\\1.0 & 2.0 & 1.0 & 4.0 & 1.0 & 2.0 & 1.0 & 4.0 & 1.0 & 2.0 & 1.0 & 4.0 & 1.0 & 2.0 & 1.0\\\\1.0 & 1.0 & 1.0 & 1.0 & 5.0 & 1.0 & 1.0 & 1.0 & 1.0 & 5.0 & 1.0 & 1.0 & 1.0 & 1.0 & 5.0\\\\1.0 & 2.0 & 3.0 & 2.0 & 1.0 & 6.0 & 1.0 & 2.0 & 3.0 & 2.0 & 1.0 & 6.0 & 1.0 & 2.0 & 3.0\\\\1.0 & 1.0 & 1.0 & 1.0 & 1.0 & 1.0 & 7.0 & 1.0 & 1.0 & 1.0 & 1.0 & 1.0 & 1.0 & 7.0 & 1.0\\\\1.0 & 2.0 & 1.0 & 4.0 & 1.0 & 2.0 & 1.0 & 8.0 & 1.0 & 2.0 & 1.0 & 4.0 & 1.0 & 2.0 & 1.0\\\\1.0 & 1.0 & 3.0 & 1.0 & 1.0 & 3.0 & 1.0 & 1.0 & 9.0 & 1.0 & 1.0 & 3.0 & 1.0 & 1.0 & 3.0\\\\1.0 & 2.0 & 1.0 & 2.0 & 5.0 & 2.0 & 1.0 & 2.0 & 1.0 & 10.0 & 1.0 & 2.0 & 1.0 & 2.0 & 5.0\\end{array}\\right]$"
      ],
      "text/plain": [
       "<IPython.core.display.Math object>"
      ]
     },
     "metadata": {},
     "output_type": "display_data"
    }
   ],
   "source": [
    "for i in range(0,n):\n",
    "    for j in range(0,m):\n",
    "        gcdMat[i,j] = math.gcd(i+1, j+1)\n",
    "        \n",
    "display(Math(sym.latex(sym.sympify(gcdMat))))"
   ]
  }
 ],
 "metadata": {
  "kernelspec": {
   "display_name": "Python 3 (ipykernel)",
   "language": "python",
   "name": "python3"
  },
  "language_info": {
   "codemirror_mode": {
    "name": "ipython",
    "version": 3
   },
   "file_extension": ".py",
   "mimetype": "text/x-python",
   "name": "python",
   "nbconvert_exporter": "python",
   "pygments_lexer": "ipython3",
   "version": "3.7.11"
  }
 },
 "nbformat": 4,
 "nbformat_minor": 5
}
