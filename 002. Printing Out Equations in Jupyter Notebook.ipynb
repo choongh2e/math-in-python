{
 "cells": [
  {
   "cell_type": "markdown",
   "id": "ff41fb20",
   "metadata": {},
   "source": [
    "## 목표\n",
    "* 모듈 import 하는법\n",
    "* LaTeX 간단한 사용 "
   ]
  },
  {
   "cell_type": "code",
   "execution_count": 1,
   "id": "34d81cdd",
   "metadata": {},
   "outputs": [],
   "source": [
    "from IPython.display import display, Math"
   ]
  },
  {
   "cell_type": "code",
   "execution_count": 2,
   "id": "b7ba98cd",
   "metadata": {},
   "outputs": [
    {
     "data": {
      "text/plain": [
       "'4 + 3 = 7'"
      ]
     },
     "metadata": {},
     "output_type": "display_data"
    }
   ],
   "source": [
    "display('4 + 3 = 7')"
   ]
  },
  {
   "cell_type": "code",
   "execution_count": 3,
   "id": "ba910e7d",
   "metadata": {},
   "outputs": [
    {
     "data": {
      "text/latex": [
       "$\\displaystyle 4 + 3 = 7$"
      ],
      "text/plain": [
       "<IPython.core.display.Math object>"
      ]
     },
     "metadata": {},
     "output_type": "display_data"
    }
   ],
   "source": [
    "display(Math('4 + 3 = 7'))"
   ]
  },
  {
   "cell_type": "code",
   "execution_count": 5,
   "id": "965460cd",
   "metadata": {},
   "outputs": [
    {
     "data": {
      "text/latex": [
       "$\\displaystyle 4 + 5 = 9$"
      ],
      "text/plain": [
       "<IPython.core.display.Math object>"
      ]
     },
     "metadata": {},
     "output_type": "display_data"
    }
   ],
   "source": [
    "x = 4\n",
    "y = 5\n",
    "\n",
    "display(Math('%g + %g = %g' % (x, y, x+y)))"
   ]
  },
  {
   "cell_type": "code",
   "execution_count": 8,
   "id": "01d67fed",
   "metadata": {},
   "outputs": [
    {
     "data": {
      "text/latex": [
       "$\\displaystyle \\frac{4}{5} = .8$"
      ],
      "text/plain": [
       "<IPython.core.display.Math object>"
      ]
     },
     "metadata": {},
     "output_type": "display_data"
    }
   ],
   "source": [
    "display(Math('\\\\frac{4}{5} = .8'))"
   ]
  },
  {
   "cell_type": "code",
   "execution_count": 9,
   "id": "3dc4373e",
   "metadata": {},
   "outputs": [
    {
     "data": {
      "text/latex": [
       "$\\displaystyle 3.4 \\times 17 = 57.8$"
      ],
      "text/plain": [
       "<IPython.core.display.Math object>"
      ]
     },
     "metadata": {},
     "output_type": "display_data"
    }
   ],
   "source": [
    "x = 3.4\n",
    "y = 17\n",
    "\n",
    "display(Math('%g \\\\times %g = %g' %(x, y, x*y)))"
   ]
  },
  {
   "cell_type": "code",
   "execution_count": 15,
   "id": "25d2141a",
   "metadata": {},
   "outputs": [
    {
     "data": {
      "text/latex": [
       "$\\displaystyle 3x(4+y) = 42$"
      ],
      "text/plain": [
       "<IPython.core.display.Math object>"
      ]
     },
     "metadata": {},
     "output_type": "display_data"
    },
    {
     "data": {
      "text/latex": [
       "$\\displaystyle -y-\\frac{x+3}{z} = 0$"
      ],
      "text/plain": [
       "<IPython.core.display.Math object>"
      ]
     },
     "metadata": {},
     "output_type": "display_data"
    }
   ],
   "source": [
    "x = 7\n",
    "y = -2 \n",
    "z = 5\n",
    "\n",
    "display(Math('3x(4+y) = %g' % (3*x*(4+y))))\n",
    "display(Math('-y-\\\\frac{x+3}{z} = %g' %(-1*y-(x+3)/z)))"
   ]
  }
 ],
 "metadata": {
  "kernelspec": {
   "display_name": "Python 3 (ipykernel)",
   "language": "python",
   "name": "python3"
  },
  "language_info": {
   "codemirror_mode": {
    "name": "ipython",
    "version": 3
   },
   "file_extension": ".py",
   "mimetype": "text/x-python",
   "name": "python",
   "nbconvert_exporter": "python",
   "pygments_lexer": "ipython3",
   "version": "3.7.11"
  }
 },
 "nbformat": 4,
 "nbformat_minor": 5
}
