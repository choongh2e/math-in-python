{
 "cells": [
  {
   "cell_type": "markdown",
   "id": "b9560123",
   "metadata": {},
   "source": [
    "## 지수법칙\n",
    "* SymPy를 이용하여 지수법칙 공부하기"
   ]
  },
  {
   "cell_type": "code",
   "execution_count": 1,
   "id": "47a6b5af",
   "metadata": {},
   "outputs": [],
   "source": [
    "import sympy as sym\n",
    "from IPython.display import display, Math"
   ]
  },
  {
   "cell_type": "code",
   "execution_count": 3,
   "id": "0ec88615",
   "metadata": {},
   "outputs": [
    {
     "data": {
      "text/latex": [
       "$\\displaystyle x^{y} x^{z}$"
      ],
      "text/plain": [
       " y  z\n",
       "x ⋅x "
      ]
     },
     "metadata": {},
     "output_type": "display_data"
    },
    {
     "data": {
      "text/latex": [
       "$\\displaystyle x^{y + z}$"
      ],
      "text/plain": [
       " y + z\n",
       "x     "
      ]
     },
     "metadata": {},
     "output_type": "display_data"
    }
   ],
   "source": [
    "x, y, z = sym.symbols('x,y,z')\n",
    "\n",
    "ex = x**y * x**z\n",
    "\n",
    "sym.init_printing()\n",
    "\n",
    "display(ex)\n",
    "display(sym.simplify(ex))"
   ]
  },
  {
   "cell_type": "code",
   "execution_count": 4,
   "id": "1e33028f",
   "metadata": {},
   "outputs": [
    {
     "data": {
      "text/latex": [
       "$\\displaystyle x^{y} y^{z} = x^{y} y^{z}$"
      ],
      "text/plain": [
       "<IPython.core.display.Math object>"
      ]
     },
     "metadata": {},
     "output_type": "display_data"
    },
    {
     "data": {
      "text/latex": [
       "$\\displaystyle x^{y} x^{- z} = x^{y - z}$"
      ],
      "text/plain": [
       "<IPython.core.display.Math object>"
      ]
     },
     "metadata": {},
     "output_type": "display_data"
    },
    {
     "data": {
      "text/latex": [
       "$\\displaystyle x^{y} y^{z} = x^{y} y^{z}$"
      ],
      "text/plain": [
       "<IPython.core.display.Math object>"
      ]
     },
     "metadata": {},
     "output_type": "display_data"
    }
   ],
   "source": [
    "ex1 = x**y * y**z\n",
    "ex2 = x**y / x**z\n",
    "ex3 = x**y * y**z\n",
    "\n",
    "display(Math('%s = %s' %(sym.latex(ex1), sym.latex(sym.simplify(ex1)))))\n",
    "display(Math('%s = %s' %(sym.latex(ex2), sym.latex(sym.simplify(ex2)))))\n",
    "display(Math('%s = %s' %(sym.latex(ex3), sym.latex(sym.simplify(ex3)))))"
   ]
  },
  {
   "cell_type": "code",
   "execution_count": 6,
   "id": "6a4622a2",
   "metadata": {},
   "outputs": [
    {
     "name": "stderr",
     "output_type": "stream",
     "text": [
      "/Users/choonghee/opt/miniconda3/envs/math/lib/python3.7/site-packages/sympy/core/relational.py:490: SymPyDeprecationWarning: \n",
      "\n",
      "Eq(expr) with rhs default to 0 has been deprecated since SymPy 1.5.\n",
      "Use Eq(expr, 0) instead. See\n",
      "https://github.com/sympy/sympy/issues/16587 for more info.\n",
      "\n",
      "  deprecated_since_version=\"1.5\"\n"
     ]
    },
    {
     "data": {
      "text/latex": [
       "$\\displaystyle x^{y} y^{z}$"
      ],
      "text/plain": [
       " y  z\n",
       "x ⋅y "
      ]
     },
     "metadata": {},
     "output_type": "display_data"
    }
   ],
   "source": [
    "lhs = 4\n",
    "rhs = 6-2\n",
    "sym.Eq(lhs-rhs)\n",
    "\n",
    "sym.Eq( sym.expand(ex1 - sym.simplify(ex1)) )\n",
    "display(sym.powsimp(ex1))"
   ]
  }
 ],
 "metadata": {
  "kernelspec": {
   "display_name": "Python 3 (ipykernel)",
   "language": "python",
   "name": "python3"
  },
  "language_info": {
   "codemirror_mode": {
    "name": "ipython",
    "version": 3
   },
   "file_extension": ".py",
   "mimetype": "text/x-python",
   "name": "python",
   "nbconvert_exporter": "python",
   "pygments_lexer": "ipython3",
   "version": "3.7.11"
  }
 },
 "nbformat": 4,
 "nbformat_minor": 5
}
